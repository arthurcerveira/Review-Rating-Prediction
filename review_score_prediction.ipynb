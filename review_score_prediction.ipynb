{
 "cells": [
  {
   "cell_type": "code",
   "execution_count": 1,
   "metadata": {},
   "outputs": [
    {
     "data": {
      "text/html": [
       "<div>\n",
       "<style scoped>\n",
       "    .dataframe tbody tr th:only-of-type {\n",
       "        vertical-align: middle;\n",
       "    }\n",
       "\n",
       "    .dataframe tbody tr th {\n",
       "        vertical-align: top;\n",
       "    }\n",
       "\n",
       "    .dataframe thead th {\n",
       "        text-align: right;\n",
       "    }\n",
       "</style>\n",
       "<table border=\"1\" class=\"dataframe\">\n",
       "  <thead>\n",
       "    <tr style=\"text-align: right;\">\n",
       "      <th></th>\n",
       "      <th>artist</th>\n",
       "      <th>title</th>\n",
       "      <th>text</th>\n",
       "      <th>genre</th>\n",
       "      <th>year</th>\n",
       "      <th>author</th>\n",
       "      <th>score</th>\n",
       "    </tr>\n",
       "  </thead>\n",
       "  <tbody>\n",
       "    <tr>\n",
       "      <th>0</th>\n",
       "      <td>Xenia Rubinos</td>\n",
       "      <td>Una Rosa</td>\n",
       "      <td>Best new music The singer-songwriter’s latest...</td>\n",
       "      <td>Rock</td>\n",
       "      <td>2021</td>\n",
       "      <td>Contributor</td>\n",
       "      <td>8.4</td>\n",
       "    </tr>\n",
       "    <tr>\n",
       "      <th>1</th>\n",
       "      <td>Lana Del Rey</td>\n",
       "      <td>Blue Banisters</td>\n",
       "      <td>Lana Del Rey’s second album of the year is a ...</td>\n",
       "      <td>Pop/R&amp;B</td>\n",
       "      <td>2021</td>\n",
       "      <td>Associate Editor</td>\n",
       "      <td>7.7</td>\n",
       "    </tr>\n",
       "    <tr>\n",
       "      <th>2</th>\n",
       "      <td>Black Marble</td>\n",
       "      <td>Fast Idol</td>\n",
       "      <td>Chris Stewart continues his decade-long quest...</td>\n",
       "      <td>Rock</td>\n",
       "      <td>2021</td>\n",
       "      <td>Contributor</td>\n",
       "      <td>6.8</td>\n",
       "    </tr>\n",
       "    <tr>\n",
       "      <th>3</th>\n",
       "      <td>UNIIQU3</td>\n",
       "      <td>Heartbeats</td>\n",
       "      <td>The breakout star of the regional subgenre kn...</td>\n",
       "      <td>Electronic</td>\n",
       "      <td>2021</td>\n",
       "      <td>Contributor</td>\n",
       "      <td>7.8</td>\n",
       "    </tr>\n",
       "    <tr>\n",
       "      <th>4</th>\n",
       "      <td>Dos Santos</td>\n",
       "      <td>City of Mirrors</td>\n",
       "      <td>Approaching the rich Latinx musical tradition...</td>\n",
       "      <td>Rock</td>\n",
       "      <td>2021</td>\n",
       "      <td>Contributor</td>\n",
       "      <td>7.4</td>\n",
       "    </tr>\n",
       "  </tbody>\n",
       "</table>\n",
       "</div>"
      ],
      "text/plain": [
       "          artist            title  \\\n",
       "0  Xenia Rubinos         Una Rosa   \n",
       "1   Lana Del Rey   Blue Banisters   \n",
       "2   Black Marble        Fast Idol   \n",
       "3        UNIIQU3       Heartbeats   \n",
       "4     Dos Santos  City of Mirrors   \n",
       "\n",
       "                                                text       genre  year  \\\n",
       "0   Best new music The singer-songwriter’s latest...        Rock  2021   \n",
       "1   Lana Del Rey’s second album of the year is a ...     Pop/R&B  2021   \n",
       "2   Chris Stewart continues his decade-long quest...        Rock  2021   \n",
       "3   The breakout star of the regional subgenre kn...  Electronic  2021   \n",
       "4   Approaching the rich Latinx musical tradition...        Rock  2021   \n",
       "\n",
       "             author  score  \n",
       "0       Contributor    8.4  \n",
       "1  Associate Editor    7.7  \n",
       "2      Contributor     6.8  \n",
       "3       Contributor    7.8  \n",
       "4       Contributor    7.4  "
      ]
     },
     "execution_count": 1,
     "metadata": {},
     "output_type": "execute_result"
    }
   ],
   "source": [
    "import pandas as pd\n",
    "\n",
    "reviews = pd.read_csv(\"reviews-albums.csv\", sep=\";\")\n",
    "reviews.head()"
   ]
  },
  {
   "cell_type": "code",
   "execution_count": 2,
   "metadata": {},
   "outputs": [
    {
     "data": {
      "text/plain": [
       "artist     object\n",
       "title      object\n",
       "text       object\n",
       "genre      object\n",
       "year       object\n",
       "author     object\n",
       "score     float64\n",
       "dtype: object"
      ]
     },
     "execution_count": 2,
     "metadata": {},
     "output_type": "execute_result"
    }
   ],
   "source": [
    "reviews.dtypes"
   ]
  },
  {
   "cell_type": "markdown",
   "metadata": {},
   "source": [
    "## Engenharia de atributos\n",
    "\n",
    "* Remover discos sem ano de lançamento\n",
    "* Reduzir número de classes dos autores\n",
    "* Aplicar One-Hot Encoding em variáveis categóricas"
   ]
  },
  {
   "cell_type": "code",
   "execution_count": 3,
   "metadata": {},
   "outputs": [
    {
     "data": {
      "text/html": [
       "<div>\n",
       "<style scoped>\n",
       "    .dataframe tbody tr th:only-of-type {\n",
       "        vertical-align: middle;\n",
       "    }\n",
       "\n",
       "    .dataframe tbody tr th {\n",
       "        vertical-align: top;\n",
       "    }\n",
       "\n",
       "    .dataframe thead th {\n",
       "        text-align: right;\n",
       "    }\n",
       "</style>\n",
       "<table border=\"1\" class=\"dataframe\">\n",
       "  <thead>\n",
       "    <tr style=\"text-align: right;\">\n",
       "      <th></th>\n",
       "      <th>Coluna</th>\n",
       "      <th>NANs (absoluto)</th>\n",
       "      <th>NANs (porcentagem)</th>\n",
       "    </tr>\n",
       "  </thead>\n",
       "  <tbody>\n",
       "  </tbody>\n",
       "</table>\n",
       "</div>"
      ],
      "text/plain": [
       "Empty DataFrame\n",
       "Columns: [Coluna, NANs (absoluto), NANs (porcentagem)]\n",
       "Index: []"
      ]
     },
     "execution_count": 3,
     "metadata": {},
     "output_type": "execute_result"
    }
   ],
   "source": [
    "def check_nulls(df):\n",
    "    rows = list()\n",
    "\n",
    "    for column in df.columns:\n",
    "        row = {\n",
    "            'Coluna': column, \n",
    "            'NANs (absoluto)': df[column].isnull().sum(), \n",
    "            'NANs (porcentagem)': df[column].isnull().sum() / df.shape[0]\n",
    "        }\n",
    "\n",
    "        rows.append(row)\n",
    "\n",
    "    res = pd.DataFrame(rows)\n",
    "\n",
    "    return res[res[\"NANs (absoluto)\"] > 0].sort_values('NANs (absoluto)', ascending=False)\n",
    "\n",
    "check_nulls(reviews)"
   ]
  },
  {
   "cell_type": "code",
   "execution_count": 4,
   "metadata": {},
   "outputs": [
    {
     "data": {
      "text/plain": [
       "array(['2021', '1991', '1996', '2010', '1969', '1997', '1993', '1981',\n",
       "       '1984', '1995', '1992', '2001', '2016', '1977', '1987', '1999',\n",
       "       '1979', '1976', '2014', '1994', '2011', '2020', '1986', '1982',\n",
       "       '1980', '1988', '1978', '2002', '1983', '1971', '2004', '1966',\n",
       "       '2000', '1985', '1998', '1990', '2019', '2003', '1974', '2007',\n",
       "       ' • ', '1972', '1973', '1975', '2009', '1962', '2012', '2008',\n",
       "       '2006', '2013', '1989', '2018', '1970', '1968', '1957', '2017',\n",
       "       '1967', '2015', '1965'], dtype=object)"
      ]
     },
     "execution_count": 4,
     "metadata": {},
     "output_type": "execute_result"
    }
   ],
   "source": [
    "reviews[\"year\"].unique()"
   ]
  },
  {
   "cell_type": "code",
   "execution_count": 5,
   "metadata": {},
   "outputs": [
    {
     "data": {
      "text/plain": [
       "array([2021, 1991, 1996, 2010, 1969, 1997, 1993, 1981, 1984, 1995, 1992,\n",
       "       2001, 2016, 1977, 1987, 1999, 1979, 1976, 2014, 1994, 2011, 2020,\n",
       "       1986, 1982, 1980, 1988, 1978, 2002, 1983, 1971, 2004, 1966, 2000,\n",
       "       1985, 1998, 1990, 2019, 2003, 1974, 2007, 1972, 1973, 1975, 2009,\n",
       "       1962, 2012, 2008, 2006, 2013, 1989, 2018, 1970, 1968, 1957, 2017,\n",
       "       1967, 2015, 1965])"
      ]
     },
     "execution_count": 5,
     "metadata": {},
     "output_type": "execute_result"
    }
   ],
   "source": [
    "# Remove reviews without \n",
    "reviews_year = reviews.drop(reviews[reviews.eq(' • ').any(1)].index)\n",
    "\n",
    "# Convert year to int\n",
    "reviews_year[\"year\"] = pd.to_numeric(reviews_year[\"year\"])\n",
    "\n",
    "reviews_year[\"year\"].unique()"
   ]
  },
  {
   "cell_type": "code",
   "execution_count": 6,
   "metadata": {},
   "outputs": [
    {
     "data": {
      "text/plain": [
       "array(['Contributor', 'Associate Editor', 'Contributor ',\n",
       "       'Contributing Editor', 'Assistant Editor', 'Staff Writer',\n",
       "       'Features Editor', 'Staff Writer ', 'Associate Staff Writer, News',\n",
       "       'Executive Editorial Assistant', 'Editorial Producer',\n",
       "       'News Editor', 'Editorial Fellow', 'Reviews Editor',\n",
       "       'Senior Staff Writer', 'Associate Staff Writer',\n",
       "       'Contributing Writer', 'Senior Editor'], dtype=object)"
      ]
     },
     "execution_count": 6,
     "metadata": {},
     "output_type": "execute_result"
    }
   ],
   "source": [
    "reviews_year[\"author\"].unique()"
   ]
  },
  {
   "cell_type": "code",
   "execution_count": 7,
   "metadata": {},
   "outputs": [
    {
     "data": {
      "text/plain": [
       "array(['Contributor', 'Associate', 'Editor', 'Staff'], dtype=object)"
      ]
     },
     "execution_count": 7,
     "metadata": {},
     "output_type": "execute_result"
    }
   ],
   "source": [
    "reviews_author = reviews_year.copy()\n",
    "\n",
    "reviews_author.loc[(reviews_author['author'].str.contains(\"contrib\", case=False)), \"author\"] = \"Contributor\"\n",
    "reviews_author.loc[(reviews_author['author'].str.contains(\"associate\", case=False)), \"author\"] = \"Associate\"\n",
    "reviews_author.loc[(reviews_author['author'].str.contains(\"editor\", case=False)), \"author\"] = \"Editor\"\n",
    "reviews_author.loc[(reviews_author['author'].str.contains(\"staff\", case=False)), \"author\"] = \"Staff\"\n",
    "\n",
    "reviews_author[\"author\"].unique()"
   ]
  },
  {
   "cell_type": "code",
   "execution_count": 8,
   "metadata": {},
   "outputs": [
    {
     "data": {
      "text/plain": [
       "array(['Rock', 'Pop/R&B', 'Electronic', 'Rap', 'Metal', 'Experimental',\n",
       "       'Folk/Country', 'Jazz', 'Global'], dtype=object)"
      ]
     },
     "execution_count": 8,
     "metadata": {},
     "output_type": "execute_result"
    }
   ],
   "source": [
    "reviews_author[\"genre\"].unique()"
   ]
  },
  {
   "cell_type": "code",
   "execution_count": 9,
   "metadata": {},
   "outputs": [
    {
     "data": {
      "text/plain": [
       "Index(['artist', 'title', 'text', 'year', 'score', 'genre_Electronic',\n",
       "       'genre_Experimental', 'genre_Folk/Country', 'genre_Global',\n",
       "       'genre_Jazz', 'genre_Metal', 'genre_Pop/R&B', 'genre_Rap', 'genre_Rock',\n",
       "       'author_Associate', 'author_Contributor', 'author_Editor',\n",
       "       'author_Staff'],\n",
       "      dtype='object')"
      ]
     },
     "execution_count": 9,
     "metadata": {},
     "output_type": "execute_result"
    }
   ],
   "source": [
    "# Aplica o one-hot nos dados que ainda são textuais\n",
    "category_columns = reviews_author.select_dtypes(\"object\").columns.tolist()\n",
    "category_columns.remove(\"text\")\n",
    "category_columns.remove(\"title\")\n",
    "category_columns.remove(\"artist\")\n",
    "\n",
    "reviews_one_hot = pd.get_dummies(reviews_author, columns=category_columns)\n",
    "\n",
    "reviews_one_hot.columns"
   ]
  },
  {
   "cell_type": "markdown",
   "metadata": {},
   "source": [
    "## Analise de sentimento\n",
    "\n",
    "* Aplicar diferentes algoritmos de análise de sentimento no conteúdo do texto\n",
    "* Utilizar o resultado dessas análises como atributos para prever a nota\n",
    "\n",
    "### Natural Language Toolkit"
   ]
  },
  {
   "cell_type": "code",
   "execution_count": 10,
   "metadata": {},
   "outputs": [
    {
     "name": "stderr",
     "output_type": "stream",
     "text": [
      "[nltk_data] Downloading package vader_lexicon to\n",
      "[nltk_data]     /home/arthur/nltk_data...\n",
      "[nltk_data]   Package vader_lexicon is already up-to-date!\n"
     ]
    }
   ],
   "source": [
    "import nltk\n",
    "from nltk.sentiment.vader import SentimentIntensityAnalyzer\n",
    "\n",
    "nltk.download('vader_lexicon')\n",
    "\n",
    "sid = SentimentIntensityAnalyzer()"
   ]
  },
  {
   "cell_type": "code",
   "execution_count": 11,
   "metadata": {},
   "outputs": [
    {
     "data": {
      "text/html": [
       "<div>\n",
       "<style scoped>\n",
       "    .dataframe tbody tr th:only-of-type {\n",
       "        vertical-align: middle;\n",
       "    }\n",
       "\n",
       "    .dataframe tbody tr th {\n",
       "        vertical-align: top;\n",
       "    }\n",
       "\n",
       "    .dataframe thead th {\n",
       "        text-align: right;\n",
       "    }\n",
       "</style>\n",
       "<table border=\"1\" class=\"dataframe\">\n",
       "  <thead>\n",
       "    <tr style=\"text-align: right;\">\n",
       "      <th></th>\n",
       "      <th>nltk</th>\n",
       "      <th>score</th>\n",
       "    </tr>\n",
       "  </thead>\n",
       "  <tbody>\n",
       "    <tr>\n",
       "      <th>0</th>\n",
       "      <td>0.9556</td>\n",
       "      <td>8.4</td>\n",
       "    </tr>\n",
       "    <tr>\n",
       "      <th>1</th>\n",
       "      <td>0.9990</td>\n",
       "      <td>7.7</td>\n",
       "    </tr>\n",
       "    <tr>\n",
       "      <th>2</th>\n",
       "      <td>0.9973</td>\n",
       "      <td>6.8</td>\n",
       "    </tr>\n",
       "    <tr>\n",
       "      <th>3</th>\n",
       "      <td>0.9838</td>\n",
       "      <td>7.8</td>\n",
       "    </tr>\n",
       "    <tr>\n",
       "      <th>4</th>\n",
       "      <td>0.9914</td>\n",
       "      <td>7.4</td>\n",
       "    </tr>\n",
       "  </tbody>\n",
       "</table>\n",
       "</div>"
      ],
      "text/plain": [
       "     nltk  score\n",
       "0  0.9556    8.4\n",
       "1  0.9990    7.7\n",
       "2  0.9973    6.8\n",
       "3  0.9838    7.8\n",
       "4  0.9914    7.4"
      ]
     },
     "execution_count": 11,
     "metadata": {},
     "output_type": "execute_result"
    }
   ],
   "source": [
    "compound = list()\n",
    "reviews_nltk = reviews_one_hot.copy()\n",
    "\n",
    "for text in reviews_nltk[\"text\"].values:\n",
    "    compound.append(sid.polarity_scores(text)[\"compound\"])\n",
    "    \n",
    "reviews_nltk[\"nltk\"] = compound\n",
    "reviews_nltk[[\"nltk\", \"score\"]].head()"
   ]
  },
  {
   "cell_type": "markdown",
   "metadata": {},
   "source": [
    "### TextBlob"
   ]
  },
  {
   "cell_type": "code",
   "execution_count": 12,
   "metadata": {},
   "outputs": [
    {
     "name": "stderr",
     "output_type": "stream",
     "text": [
      "[nltk_data] Downloading package punkt to /home/arthur/nltk_data...\n",
      "[nltk_data]   Package punkt is already up-to-date!\n"
     ]
    },
    {
     "data": {
      "text/plain": [
       "True"
      ]
     },
     "execution_count": 12,
     "metadata": {},
     "output_type": "execute_result"
    }
   ],
   "source": [
    "from textblob import TextBlob\n",
    "\n",
    "nltk.download('punkt')"
   ]
  },
  {
   "cell_type": "code",
   "execution_count": 13,
   "metadata": {},
   "outputs": [
    {
     "data": {
      "text/html": [
       "<div>\n",
       "<style scoped>\n",
       "    .dataframe tbody tr th:only-of-type {\n",
       "        vertical-align: middle;\n",
       "    }\n",
       "\n",
       "    .dataframe tbody tr th {\n",
       "        vertical-align: top;\n",
       "    }\n",
       "\n",
       "    .dataframe thead th {\n",
       "        text-align: right;\n",
       "    }\n",
       "</style>\n",
       "<table border=\"1\" class=\"dataframe\">\n",
       "  <thead>\n",
       "    <tr style=\"text-align: right;\">\n",
       "      <th></th>\n",
       "      <th>text_blob</th>\n",
       "      <th>score</th>\n",
       "    </tr>\n",
       "  </thead>\n",
       "  <tbody>\n",
       "    <tr>\n",
       "      <th>0</th>\n",
       "      <td>0.104145</td>\n",
       "      <td>8.4</td>\n",
       "    </tr>\n",
       "    <tr>\n",
       "      <th>1</th>\n",
       "      <td>0.140743</td>\n",
       "      <td>7.7</td>\n",
       "    </tr>\n",
       "    <tr>\n",
       "      <th>2</th>\n",
       "      <td>0.182267</td>\n",
       "      <td>6.8</td>\n",
       "    </tr>\n",
       "    <tr>\n",
       "      <th>3</th>\n",
       "      <td>0.068571</td>\n",
       "      <td>7.8</td>\n",
       "    </tr>\n",
       "    <tr>\n",
       "      <th>4</th>\n",
       "      <td>0.143653</td>\n",
       "      <td>7.4</td>\n",
       "    </tr>\n",
       "  </tbody>\n",
       "</table>\n",
       "</div>"
      ],
      "text/plain": [
       "   text_blob  score\n",
       "0   0.104145    8.4\n",
       "1   0.140743    7.7\n",
       "2   0.182267    6.8\n",
       "3   0.068571    7.8\n",
       "4   0.143653    7.4"
      ]
     },
     "execution_count": 13,
     "metadata": {},
     "output_type": "execute_result"
    }
   ],
   "source": [
    "polarity = list()\n",
    "reviews_textblob = reviews_nltk.copy()\n",
    "\n",
    "for text in reviews_textblob[\"text\"].values:\n",
    "    polarity.append(TextBlob(text).sentiment.polarity)\n",
    "\n",
    "reviews_textblob[\"text_blob\"] = polarity\n",
    "reviews_textblob[[\"text_blob\", \"score\"]].head()"
   ]
  },
  {
   "cell_type": "markdown",
   "metadata": {},
   "source": [
    "### Flair"
   ]
  },
  {
   "cell_type": "code",
   "execution_count": 14,
   "metadata": {},
   "outputs": [
    {
     "name": "stdout",
     "output_type": "stream",
     "text": [
      "2021-10-24 18:08:23,528 loading file /home/arthur/.flair/models/sentiment-en-mix-distillbert_4.pt\n"
     ]
    }
   ],
   "source": [
    "import flair\n",
    "\n",
    "flair_sentiment = flair.models.TextClassifier.load('en-sentiment')"
   ]
  },
  {
   "cell_type": "code",
   "execution_count": 15,
   "metadata": {},
   "outputs": [
    {
     "data": {
      "text/html": [
       "<div>\n",
       "<style scoped>\n",
       "    .dataframe tbody tr th:only-of-type {\n",
       "        vertical-align: middle;\n",
       "    }\n",
       "\n",
       "    .dataframe tbody tr th {\n",
       "        vertical-align: top;\n",
       "    }\n",
       "\n",
       "    .dataframe thead th {\n",
       "        text-align: right;\n",
       "    }\n",
       "</style>\n",
       "<table border=\"1\" class=\"dataframe\">\n",
       "  <thead>\n",
       "    <tr style=\"text-align: right;\">\n",
       "      <th></th>\n",
       "      <th>flair</th>\n",
       "      <th>score</th>\n",
       "    </tr>\n",
       "  </thead>\n",
       "  <tbody>\n",
       "    <tr>\n",
       "      <th>0</th>\n",
       "      <td>0.959007</td>\n",
       "      <td>8.4</td>\n",
       "    </tr>\n",
       "    <tr>\n",
       "      <th>1</th>\n",
       "      <td>0.895744</td>\n",
       "      <td>7.7</td>\n",
       "    </tr>\n",
       "    <tr>\n",
       "      <th>2</th>\n",
       "      <td>0.896525</td>\n",
       "      <td>6.8</td>\n",
       "    </tr>\n",
       "    <tr>\n",
       "      <th>3</th>\n",
       "      <td>0.991742</td>\n",
       "      <td>7.8</td>\n",
       "    </tr>\n",
       "    <tr>\n",
       "      <th>4</th>\n",
       "      <td>0.999932</td>\n",
       "      <td>7.4</td>\n",
       "    </tr>\n",
       "  </tbody>\n",
       "</table>\n",
       "</div>"
      ],
      "text/plain": [
       "      flair  score\n",
       "0  0.959007    8.4\n",
       "1  0.895744    7.7\n",
       "2  0.896525    6.8\n",
       "3  0.991742    7.8\n",
       "4  0.999932    7.4"
      ]
     },
     "execution_count": 15,
     "metadata": {},
     "output_type": "execute_result"
    }
   ],
   "source": [
    "confidences =  list()\n",
    "reviews_flair = reviews_textblob.copy()\n",
    "\n",
    "for text in reviews_flair[\"text\"].values:\n",
    "    sentence = flair.data.Sentence(text)\n",
    "    flair_sentiment.predict(sentence)\n",
    "    sentiment = sentence.labels[0].to_dict()\n",
    "\n",
    "    label = sentiment[\"value\"]\n",
    "\n",
    "    # Negative label is interpretade as negative value\n",
    "    confidence = sentiment[\"confidence\"] if label == \"POSITIVE\" else sentiment[\"confidence\"] * -1\n",
    "\n",
    "    confidences.append(confidence)\n",
    "\n",
    "reviews_flair[\"flair\"] = confidences\n",
    "reviews_flair[[\"flair\", \"score\"]].head()"
   ]
  },
  {
   "cell_type": "code",
   "execution_count": 16,
   "metadata": {},
   "outputs": [],
   "source": [
    "reviews_flair.to_csv(\"reviews-nlp.csv\", index=False, sep=\";\")"
   ]
  },
  {
   "cell_type": "code",
   "execution_count": 17,
   "metadata": {},
   "outputs": [
    {
     "data": {
      "text/html": [
       "<div>\n",
       "<style scoped>\n",
       "    .dataframe tbody tr th:only-of-type {\n",
       "        vertical-align: middle;\n",
       "    }\n",
       "\n",
       "    .dataframe tbody tr th {\n",
       "        vertical-align: top;\n",
       "    }\n",
       "\n",
       "    .dataframe thead th {\n",
       "        text-align: right;\n",
       "    }\n",
       "</style>\n",
       "<table border=\"1\" class=\"dataframe\">\n",
       "  <thead>\n",
       "    <tr style=\"text-align: right;\">\n",
       "      <th></th>\n",
       "      <th>artist</th>\n",
       "      <th>title</th>\n",
       "      <th>text</th>\n",
       "      <th>year</th>\n",
       "      <th>score</th>\n",
       "      <th>genre_Electronic</th>\n",
       "      <th>genre_Experimental</th>\n",
       "      <th>genre_Folk/Country</th>\n",
       "      <th>genre_Global</th>\n",
       "      <th>genre_Jazz</th>\n",
       "      <th>...</th>\n",
       "      <th>genre_Pop/R&amp;B</th>\n",
       "      <th>genre_Rap</th>\n",
       "      <th>genre_Rock</th>\n",
       "      <th>author_Associate</th>\n",
       "      <th>author_Contributor</th>\n",
       "      <th>author_Editor</th>\n",
       "      <th>author_Staff</th>\n",
       "      <th>nltk</th>\n",
       "      <th>text_blob</th>\n",
       "      <th>flair</th>\n",
       "    </tr>\n",
       "  </thead>\n",
       "  <tbody>\n",
       "    <tr>\n",
       "      <th>0</th>\n",
       "      <td>Xenia Rubinos</td>\n",
       "      <td>Una Rosa</td>\n",
       "      <td>Best new music The singer-songwriter’s latest...</td>\n",
       "      <td>2021</td>\n",
       "      <td>8.4</td>\n",
       "      <td>0</td>\n",
       "      <td>0</td>\n",
       "      <td>0</td>\n",
       "      <td>0</td>\n",
       "      <td>0</td>\n",
       "      <td>...</td>\n",
       "      <td>0</td>\n",
       "      <td>0</td>\n",
       "      <td>1</td>\n",
       "      <td>0</td>\n",
       "      <td>1</td>\n",
       "      <td>0</td>\n",
       "      <td>0</td>\n",
       "      <td>0.9556</td>\n",
       "      <td>0.104145</td>\n",
       "      <td>0.959007</td>\n",
       "    </tr>\n",
       "    <tr>\n",
       "      <th>1</th>\n",
       "      <td>Lana Del Rey</td>\n",
       "      <td>Blue Banisters</td>\n",
       "      <td>Lana Del Rey’s second album of the year is a ...</td>\n",
       "      <td>2021</td>\n",
       "      <td>7.7</td>\n",
       "      <td>0</td>\n",
       "      <td>0</td>\n",
       "      <td>0</td>\n",
       "      <td>0</td>\n",
       "      <td>0</td>\n",
       "      <td>...</td>\n",
       "      <td>1</td>\n",
       "      <td>0</td>\n",
       "      <td>0</td>\n",
       "      <td>1</td>\n",
       "      <td>0</td>\n",
       "      <td>0</td>\n",
       "      <td>0</td>\n",
       "      <td>0.9990</td>\n",
       "      <td>0.140743</td>\n",
       "      <td>0.895744</td>\n",
       "    </tr>\n",
       "    <tr>\n",
       "      <th>2</th>\n",
       "      <td>Black Marble</td>\n",
       "      <td>Fast Idol</td>\n",
       "      <td>Chris Stewart continues his decade-long quest...</td>\n",
       "      <td>2021</td>\n",
       "      <td>6.8</td>\n",
       "      <td>0</td>\n",
       "      <td>0</td>\n",
       "      <td>0</td>\n",
       "      <td>0</td>\n",
       "      <td>0</td>\n",
       "      <td>...</td>\n",
       "      <td>0</td>\n",
       "      <td>0</td>\n",
       "      <td>1</td>\n",
       "      <td>0</td>\n",
       "      <td>1</td>\n",
       "      <td>0</td>\n",
       "      <td>0</td>\n",
       "      <td>0.9973</td>\n",
       "      <td>0.182267</td>\n",
       "      <td>0.896525</td>\n",
       "    </tr>\n",
       "    <tr>\n",
       "      <th>3</th>\n",
       "      <td>UNIIQU3</td>\n",
       "      <td>Heartbeats</td>\n",
       "      <td>The breakout star of the regional subgenre kn...</td>\n",
       "      <td>2021</td>\n",
       "      <td>7.8</td>\n",
       "      <td>1</td>\n",
       "      <td>0</td>\n",
       "      <td>0</td>\n",
       "      <td>0</td>\n",
       "      <td>0</td>\n",
       "      <td>...</td>\n",
       "      <td>0</td>\n",
       "      <td>0</td>\n",
       "      <td>0</td>\n",
       "      <td>0</td>\n",
       "      <td>1</td>\n",
       "      <td>0</td>\n",
       "      <td>0</td>\n",
       "      <td>0.9838</td>\n",
       "      <td>0.068571</td>\n",
       "      <td>0.991742</td>\n",
       "    </tr>\n",
       "    <tr>\n",
       "      <th>4</th>\n",
       "      <td>Dos Santos</td>\n",
       "      <td>City of Mirrors</td>\n",
       "      <td>Approaching the rich Latinx musical tradition...</td>\n",
       "      <td>2021</td>\n",
       "      <td>7.4</td>\n",
       "      <td>0</td>\n",
       "      <td>0</td>\n",
       "      <td>0</td>\n",
       "      <td>0</td>\n",
       "      <td>0</td>\n",
       "      <td>...</td>\n",
       "      <td>0</td>\n",
       "      <td>0</td>\n",
       "      <td>1</td>\n",
       "      <td>0</td>\n",
       "      <td>1</td>\n",
       "      <td>0</td>\n",
       "      <td>0</td>\n",
       "      <td>0.9914</td>\n",
       "      <td>0.143653</td>\n",
       "      <td>0.999932</td>\n",
       "    </tr>\n",
       "  </tbody>\n",
       "</table>\n",
       "<p>5 rows × 21 columns</p>\n",
       "</div>"
      ],
      "text/plain": [
       "          artist            title  \\\n",
       "0  Xenia Rubinos         Una Rosa   \n",
       "1   Lana Del Rey   Blue Banisters   \n",
       "2   Black Marble        Fast Idol   \n",
       "3        UNIIQU3       Heartbeats   \n",
       "4     Dos Santos  City of Mirrors   \n",
       "\n",
       "                                                text  year  score  \\\n",
       "0   Best new music The singer-songwriter’s latest...  2021    8.4   \n",
       "1   Lana Del Rey’s second album of the year is a ...  2021    7.7   \n",
       "2   Chris Stewart continues his decade-long quest...  2021    6.8   \n",
       "3   The breakout star of the regional subgenre kn...  2021    7.8   \n",
       "4   Approaching the rich Latinx musical tradition...  2021    7.4   \n",
       "\n",
       "   genre_Electronic  genre_Experimental  genre_Folk/Country  genre_Global  \\\n",
       "0                 0                   0                   0             0   \n",
       "1                 0                   0                   0             0   \n",
       "2                 0                   0                   0             0   \n",
       "3                 1                   0                   0             0   \n",
       "4                 0                   0                   0             0   \n",
       "\n",
       "   genre_Jazz  ...  genre_Pop/R&B  genre_Rap  genre_Rock  author_Associate  \\\n",
       "0           0  ...              0          0           1                 0   \n",
       "1           0  ...              1          0           0                 1   \n",
       "2           0  ...              0          0           1                 0   \n",
       "3           0  ...              0          0           0                 0   \n",
       "4           0  ...              0          0           1                 0   \n",
       "\n",
       "   author_Contributor  author_Editor  author_Staff    nltk  text_blob  \\\n",
       "0                   1              0             0  0.9556   0.104145   \n",
       "1                   0              0             0  0.9990   0.140743   \n",
       "2                   1              0             0  0.9973   0.182267   \n",
       "3                   1              0             0  0.9838   0.068571   \n",
       "4                   1              0             0  0.9914   0.143653   \n",
       "\n",
       "      flair  \n",
       "0  0.959007  \n",
       "1  0.895744  \n",
       "2  0.896525  \n",
       "3  0.991742  \n",
       "4  0.999932  \n",
       "\n",
       "[5 rows x 21 columns]"
      ]
     },
     "execution_count": 17,
     "metadata": {},
     "output_type": "execute_result"
    }
   ],
   "source": [
    "from sklearn.tree import DecisionTreeRegressor \n",
    "from sklearn.model_selection import train_test_split\n",
    "from sklearn.metrics import mean_squared_error\n",
    "\n",
    "processed_reviews = pd.read_csv(\"reviews-nlp.csv\", sep=\";\")\n",
    "\n",
    "processed_reviews.head()"
   ]
  },
  {
   "cell_type": "code",
   "execution_count": 21,
   "metadata": {},
   "outputs": [
    {
     "data": {
      "text/html": [
       "<div>\n",
       "<style scoped>\n",
       "    .dataframe tbody tr th:only-of-type {\n",
       "        vertical-align: middle;\n",
       "    }\n",
       "\n",
       "    .dataframe tbody tr th {\n",
       "        vertical-align: top;\n",
       "    }\n",
       "\n",
       "    .dataframe thead th {\n",
       "        text-align: right;\n",
       "    }\n",
       "</style>\n",
       "<table border=\"1\" class=\"dataframe\">\n",
       "  <thead>\n",
       "    <tr style=\"text-align: right;\">\n",
       "      <th></th>\n",
       "      <th>year</th>\n",
       "      <th>genre_Electronic</th>\n",
       "      <th>genre_Experimental</th>\n",
       "      <th>genre_Folk/Country</th>\n",
       "      <th>genre_Global</th>\n",
       "      <th>genre_Jazz</th>\n",
       "      <th>genre_Metal</th>\n",
       "      <th>genre_Pop/R&amp;B</th>\n",
       "      <th>genre_Rap</th>\n",
       "      <th>genre_Rock</th>\n",
       "      <th>author_Associate</th>\n",
       "      <th>author_Contributor</th>\n",
       "      <th>author_Editor</th>\n",
       "      <th>author_Staff</th>\n",
       "      <th>nltk</th>\n",
       "      <th>text_blob</th>\n",
       "      <th>flair</th>\n",
       "    </tr>\n",
       "  </thead>\n",
       "  <tbody>\n",
       "    <tr>\n",
       "      <th>3670</th>\n",
       "      <td>2018</td>\n",
       "      <td>1</td>\n",
       "      <td>0</td>\n",
       "      <td>0</td>\n",
       "      <td>0</td>\n",
       "      <td>0</td>\n",
       "      <td>0</td>\n",
       "      <td>0</td>\n",
       "      <td>0</td>\n",
       "      <td>0</td>\n",
       "      <td>0</td>\n",
       "      <td>1</td>\n",
       "      <td>0</td>\n",
       "      <td>0</td>\n",
       "      <td>0.9932</td>\n",
       "      <td>0.147222</td>\n",
       "      <td>0.999970</td>\n",
       "    </tr>\n",
       "    <tr>\n",
       "      <th>4888</th>\n",
       "      <td>2017</td>\n",
       "      <td>0</td>\n",
       "      <td>0</td>\n",
       "      <td>0</td>\n",
       "      <td>0</td>\n",
       "      <td>0</td>\n",
       "      <td>0</td>\n",
       "      <td>0</td>\n",
       "      <td>0</td>\n",
       "      <td>1</td>\n",
       "      <td>0</td>\n",
       "      <td>1</td>\n",
       "      <td>0</td>\n",
       "      <td>0</td>\n",
       "      <td>0.9828</td>\n",
       "      <td>0.068330</td>\n",
       "      <td>-0.998078</td>\n",
       "    </tr>\n",
       "    <tr>\n",
       "      <th>4643</th>\n",
       "      <td>2017</td>\n",
       "      <td>0</td>\n",
       "      <td>0</td>\n",
       "      <td>0</td>\n",
       "      <td>0</td>\n",
       "      <td>0</td>\n",
       "      <td>0</td>\n",
       "      <td>1</td>\n",
       "      <td>0</td>\n",
       "      <td>0</td>\n",
       "      <td>0</td>\n",
       "      <td>1</td>\n",
       "      <td>0</td>\n",
       "      <td>0</td>\n",
       "      <td>0.9976</td>\n",
       "      <td>0.184371</td>\n",
       "      <td>0.998743</td>\n",
       "    </tr>\n",
       "    <tr>\n",
       "      <th>437</th>\n",
       "      <td>2021</td>\n",
       "      <td>1</td>\n",
       "      <td>0</td>\n",
       "      <td>0</td>\n",
       "      <td>0</td>\n",
       "      <td>0</td>\n",
       "      <td>0</td>\n",
       "      <td>0</td>\n",
       "      <td>0</td>\n",
       "      <td>0</td>\n",
       "      <td>0</td>\n",
       "      <td>1</td>\n",
       "      <td>0</td>\n",
       "      <td>0</td>\n",
       "      <td>-0.8473</td>\n",
       "      <td>0.025312</td>\n",
       "      <td>-0.541597</td>\n",
       "    </tr>\n",
       "    <tr>\n",
       "      <th>518</th>\n",
       "      <td>2021</td>\n",
       "      <td>0</td>\n",
       "      <td>0</td>\n",
       "      <td>0</td>\n",
       "      <td>0</td>\n",
       "      <td>0</td>\n",
       "      <td>0</td>\n",
       "      <td>0</td>\n",
       "      <td>0</td>\n",
       "      <td>1</td>\n",
       "      <td>0</td>\n",
       "      <td>1</td>\n",
       "      <td>0</td>\n",
       "      <td>0</td>\n",
       "      <td>0.9919</td>\n",
       "      <td>0.083724</td>\n",
       "      <td>0.996192</td>\n",
       "    </tr>\n",
       "  </tbody>\n",
       "</table>\n",
       "</div>"
      ],
      "text/plain": [
       "      year  genre_Electronic  genre_Experimental  genre_Folk/Country  \\\n",
       "3670  2018                 1                   0                   0   \n",
       "4888  2017                 0                   0                   0   \n",
       "4643  2017                 0                   0                   0   \n",
       "437   2021                 1                   0                   0   \n",
       "518   2021                 0                   0                   0   \n",
       "\n",
       "      genre_Global  genre_Jazz  genre_Metal  genre_Pop/R&B  genre_Rap  \\\n",
       "3670             0           0            0              0          0   \n",
       "4888             0           0            0              0          0   \n",
       "4643             0           0            0              1          0   \n",
       "437              0           0            0              0          0   \n",
       "518              0           0            0              0          0   \n",
       "\n",
       "      genre_Rock  author_Associate  author_Contributor  author_Editor  \\\n",
       "3670           0                 0                   1              0   \n",
       "4888           1                 0                   1              0   \n",
       "4643           0                 0                   1              0   \n",
       "437            0                 0                   1              0   \n",
       "518            1                 0                   1              0   \n",
       "\n",
       "      author_Staff    nltk  text_blob     flair  \n",
       "3670             0  0.9932   0.147222  0.999970  \n",
       "4888             0  0.9828   0.068330 -0.998078  \n",
       "4643             0  0.9976   0.184371  0.998743  \n",
       "437              0 -0.8473   0.025312 -0.541597  \n",
       "518              0  0.9919   0.083724  0.996192  "
      ]
     },
     "execution_count": 21,
     "metadata": {},
     "output_type": "execute_result"
    }
   ],
   "source": [
    "X = processed_reviews.drop([\"text\", \"score\", \"artist\", \"title\"], axis=1)\n",
    "y = processed_reviews[\"score\"]\n",
    "\n",
    "X_train, X_test, y_train, y_test = train_test_split(X, y, test_size=0.3, random_state=1) # 70% training and 30% test\n",
    "X_train.head()"
   ]
  },
  {
   "cell_type": "code",
   "execution_count": 22,
   "metadata": {},
   "outputs": [
    {
     "data": {
      "text/plain": [
       "1.0575035126396901"
      ]
     },
     "execution_count": 22,
     "metadata": {},
     "output_type": "execute_result"
    }
   ],
   "source": [
    "tree_model = DecisionTreeRegressor(random_state=42)\n",
    "tree_model.fit(X_train, y_train)\n",
    "y_pred = tree_model.predict(X_test)\n",
    "\n",
    "mse = mean_squared_error(y_test, y_pred, squared=False)\n",
    "mse"
   ]
  },
  {
   "cell_type": "code",
   "execution_count": 23,
   "metadata": {},
   "outputs": [
    {
     "data": {
      "text/plain": [
       "0.7675083729799561"
      ]
     },
     "execution_count": 23,
     "metadata": {},
     "output_type": "execute_result"
    }
   ],
   "source": [
    "from sklearn.ensemble import RandomForestRegressor\n",
    "\n",
    "rfce_model = RandomForestRegressor(random_state=42, n_estimators = 100)\n",
    "rfce_model.fit(X_train, y_train)\n",
    "\n",
    "rfce_y_pred = rfce_model.predict(X_test)\n",
    "rfce_mse = mean_squared_error(y_test, rfce_y_pred, squared=False)\n",
    "\n",
    "rfce_mse"
   ]
  },
  {
   "cell_type": "code",
   "execution_count": null,
   "metadata": {},
   "outputs": [],
   "source": [
    "# for text, score in zip(reviews_one_hot[\"text\"].values, reviews_one_hot[\"score\"].values):\n",
    "#     print(sid.polarity_scores(text)[\"compound\"], score)\n",
    "    \n",
    "    # comp = list()\n",
    "\n",
    "    # for sentence in text.split('.'):\n",
    "    #     comp.append(float(sid.polarity_scores(sentence)[\"compound\"]))\n",
    "    \n",
    "    # print(f\"{sum(comp) / len(comp):.3f} {score}\\n\")\n",
    "    \n",
    "    # break"
   ]
  },
  {
   "cell_type": "code",
   "execution_count": null,
   "metadata": {},
   "outputs": [],
   "source": [
    "text = reviews[reviews.eq(1.6).any(1)][\"text\"].values[0]\n",
    "\n",
    "# for sentence in text.split('.'):\n",
    "#     print(sentence)\n",
    "#     print(sid.polarity_scores(sentence))\n",
    "#     print(TextBlob(sentence).sentiment)\n",
    "#     print()\n",
    "\n",
    "s = flair.data.Sentence(text)\n",
    "flair_sentiment.predict(s)\n",
    "total_sentiment = s.labels\n",
    "total_sentiment"
   ]
  },
  {
   "cell_type": "code",
   "execution_count": null,
   "metadata": {},
   "outputs": [],
   "source": [
    "text = reviews[reviews.eq(10.0).any(1)][\"text\"].values[0]\n",
    "\n",
    "# for sentence in text.split('.'):\n",
    "#     print(sentence)\n",
    "#     print(sid.polarity_scores(sentence))\n",
    "#     print(TextBlob(sentence).sentiment)\n",
    "#     print()\n",
    "\n",
    "s = flair.data.Sentence(text)\n",
    "flair_sentiment.predict(s)\n",
    "total_sentiment = s.labels\n",
    "total_sentiment"
   ]
  }
 ],
 "metadata": {
  "interpreter": {
   "hash": "ef9630f5a575aa74b288ba4f9db6f23490973cdcb11ee1d8ba61bd5bd61631b9"
  },
  "kernelspec": {
   "display_name": "Python 3.8.10 64-bit ('venv': venv)",
   "name": "python3"
  },
  "language_info": {
   "codemirror_mode": {
    "name": "ipython",
    "version": 3
   },
   "file_extension": ".py",
   "mimetype": "text/x-python",
   "name": "python",
   "nbconvert_exporter": "python",
   "pygments_lexer": "ipython3",
   "version": "3.8.10"
  },
  "orig_nbformat": 4
 },
 "nbformat": 4,
 "nbformat_minor": 2
}
